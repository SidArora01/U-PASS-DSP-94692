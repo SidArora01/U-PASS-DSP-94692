{
  "cells": [
    {
      "cell_type": "markdown",
      "metadata": {
        "id": "view-in-github",
        "colab_type": "text"
      },
      "source": [
        "<a href=\"https://colab.research.google.com/github/SidArora01/U-PASS-DSP-94692/blob/main/UPASS_W5_Worksheet.ipynb\" target=\"_parent\"><img src=\"https://colab.research.google.com/assets/colab-badge.svg\" alt=\"Open In Colab\"/></a>"
      ]
    },
    {
      "cell_type": "markdown",
      "id": "17a3806d",
      "metadata": {
        "id": "17a3806d"
      },
      "source": [
        "## TASK 1: Constructing the If Function\n",
        "\n",
        "I need to classify the grade for one student whose grade is 87.\n",
        "\n",
        "- 50% or below is Fail\n",
        "- 50-64% is Pass\n",
        "- 65-74% is Credit\n",
        "- 75-85% is Distinction\n",
        "- 85-100% is High Distinction\n"
      ]
    },
    {
      "cell_type": "code",
      "execution_count": 1,
      "id": "9408c1ec",
      "metadata": {
        "colab": {
          "base_uri": "https://localhost:8080/"
        },
        "id": "9408c1ec",
        "outputId": "94e4b87e-498b-46b5-f38d-7df5cf959bc9"
      },
      "outputs": [
        {
          "output_type": "stream",
          "name": "stdout",
          "text": [
            "Grade: 87, Classification: High Distinction\n"
          ]
        }
      ],
      "source": [
        "# Write your code here\n",
        "\n",
        "grade = 87\n",
        "\n",
        "if grade <= 50:\n",
        "    result = \"Fail\"\n",
        "elif grade <= 64:\n",
        "    result = \"Pass\"\n",
        "elif grade <= 74:\n",
        "    result = \"Credit\"\n",
        "elif grade <= 85:\n",
        "    result = \"Distinction\"\n",
        "else:\n",
        "    result = \"High Distinction\"\n",
        "\n",
        "print(f\"Grade: {grade}, Classification: {result}\")"
      ]
    },
    {
      "cell_type": "markdown",
      "id": "0d216b96",
      "metadata": {
        "id": "0d216b96"
      },
      "source": [
        "👉 Hint: Use `if`, `elif`, and `else` to check ranges of grades."
      ]
    },
    {
      "cell_type": "markdown",
      "id": "165fd10a",
      "metadata": {
        "id": "165fd10a"
      },
      "source": [
        "## TASK 2: Constructing the Loop Function\n",
        "\n",
        "I need to classify the grades for a batch of 10,000 students given in a list → [75, 83, 55, 45,..........,45].\n",
        "\n",
        "- 50% or below is Fail\n",
        "- 50-64% is Pass\n",
        "- 65-74% is Credit\n",
        "- 75-85% is Distinction\n",
        "- 85-100% is High Distinction\n"
      ]
    },
    {
      "cell_type": "code",
      "execution_count": 19,
      "id": "4f4b9904",
      "metadata": {
        "colab": {
          "base_uri": "https://localhost:8080/"
        },
        "id": "4f4b9904",
        "outputId": "2624d8e5-a494-4010-d671-cbb5cd8b00fc"
      },
      "outputs": [
        {
          "output_type": "stream",
          "name": "stdout",
          "text": [
            "[(30, 'Fail'), (59, 'Pass'), (60, 'Pass'), (67, 'Credit'), (37, 'Fail'), (24, 'Fail'), (56, 'Pass'), (36, 'Fail'), (29, 'Fail'), (58, 'Pass')]\n"
          ]
        }
      ],
      "source": [
        "# Write your code here\n",
        "\n",
        "import random\n",
        "\n",
        "grade_list = []\n",
        "n = 10\n",
        "\n",
        "# generate random grades\n",
        "for i in range(n):\n",
        "    grade_list.append(random.randint(1, 100))\n",
        "\n",
        "results = []\n",
        "\n",
        "for grade in grade_list:\n",
        "    if grade <= 50:\n",
        "        results.append(\"Fail\")\n",
        "    elif grade <= 64:\n",
        "        results.append(\"Pass\")\n",
        "    elif grade <= 74:\n",
        "        results.append(\"Credit\")\n",
        "    elif grade <= 85:\n",
        "        results.append(\"Distinction\")\n",
        "    else:\n",
        "        results.append(\"High Distinction\")\n",
        "\n",
        "# print paired results\n",
        "print(list(zip(grade_list, results)))"
      ]
    },
    {
      "cell_type": "markdown",
      "id": "ec2d4dca",
      "metadata": {
        "id": "ec2d4dca"
      },
      "source": [
        "👉 Hint: Use a `for` loop to go through each grade in the list. Store results in a new list."
      ]
    },
    {
      "cell_type": "markdown",
      "id": "25dafa13",
      "metadata": {
        "id": "25dafa13"
      },
      "source": [
        "## TASK 3: Reading a text file online\n",
        "\n",
        "I need to classify the grades for a batch of 10 students given in txt file from a url: https://tinyurl.com/w5-dsp\n",
        "\n",
        "- 50% or below is Fail\n",
        "- 50-64% is Pass\n",
        "- 65-74% is Credit\n",
        "- 75-85% is Distinction\n",
        "- 85-100% is High Distinction\n"
      ]
    },
    {
      "cell_type": "code",
      "execution_count": 23,
      "id": "796bcb3f",
      "metadata": {
        "colab": {
          "base_uri": "https://localhost:8080/"
        },
        "id": "796bcb3f",
        "outputId": "8b84bf43-da83-494b-b571-56eca5d337b8"
      },
      "outputs": [
        {
          "output_type": "stream",
          "name": "stdout",
          "text": [
            "16\r\n",
            "54\r\n",
            "70\r\n",
            "24\r\n",
            "29\r\n",
            "64\r\n",
            "67\r\n",
            "15\r\n",
            "74\r\n",
            "55\n"
          ]
        }
      ],
      "source": [
        "# Write your code here\n",
        "\n",
        "import requests\n",
        "\n",
        "url = \"https://tinyurl.com/w5-dsp\"\n",
        "response = requests.get(url)\n",
        "\n",
        "data = response.text\n",
        "print(data)\n"
      ]
    },
    {
      "cell_type": "code",
      "source": [
        "grades_text = response.text.strip().split()\n",
        "\n",
        "grades = [int(g) for g in grades_text]\n",
        "results = []\n",
        "\n",
        "for grade in grades:\n",
        "    if grade <= 50:\n",
        "        results.append(\"Fail\")\n",
        "    elif grade <= 64:\n",
        "        results.append(\"Pass\")\n",
        "    elif grade <= 74:\n",
        "        results.append(\"Credit\")\n",
        "    elif grade <= 85:\n",
        "        results.append(\"Distinction\")\n",
        "    else:\n",
        "        results.append(\"High Distinction\")\n",
        "\n",
        "print(list(zip(grades, results)))"
      ],
      "metadata": {
        "colab": {
          "base_uri": "https://localhost:8080/"
        },
        "id": "5z_VRyuKdLdA",
        "outputId": "3d457b90-2b7e-4fd2-e76b-b9fcf62c6985"
      },
      "id": "5z_VRyuKdLdA",
      "execution_count": 24,
      "outputs": [
        {
          "output_type": "stream",
          "name": "stdout",
          "text": [
            "[(16, 'Fail'), (54, 'Pass'), (70, 'Credit'), (24, 'Fail'), (29, 'Fail'), (64, 'Pass'), (67, 'Credit'), (15, 'Fail'), (74, 'Credit'), (55, 'Pass')]\n"
          ]
        }
      ]
    },
    {
      "cell_type": "markdown",
      "id": "23c6e0f6",
      "metadata": {
        "id": "23c6e0f6"
      },
      "source": [
        "👉 Hint: Use the `requests` library to fetch the file. Use `.split()` to turn text into numbers."
      ]
    }
  ],
  "metadata": {
    "colab": {
      "provenance": [],
      "include_colab_link": true
    },
    "language_info": {
      "name": "python"
    },
    "kernelspec": {
      "name": "python3",
      "display_name": "Python 3"
    }
  },
  "nbformat": 4,
  "nbformat_minor": 5
}