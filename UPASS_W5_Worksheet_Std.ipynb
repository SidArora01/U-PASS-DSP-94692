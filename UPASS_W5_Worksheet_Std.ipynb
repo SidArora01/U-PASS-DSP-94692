{
  "cells": [
    {
      "cell_type": "markdown",
      "source": [
        "# UPASS Week 5 DSP 94692"
      ],
      "metadata": {
        "id": "6gUU4lvowqRi"
      },
      "id": "6gUU4lvowqRi"
    },
    {
      "cell_type": "markdown",
      "id": "17a3806d",
      "metadata": {
        "id": "17a3806d"
      },
      "source": [
        "## TASK 1: Constructing the If Function\n",
        "\n",
        "I need to classify the grade for one student whose grade is 87.\n",
        "\n",
        "- 50% or below is Fail\n",
        "- 50-64% is Pass\n",
        "- 65-74% is Credit\n",
        "- 75-85% is Distinction\n",
        "- 85-100% is High Distinction\n"
      ]
    },
    {
      "cell_type": "code",
      "execution_count": 1,
      "id": "9408c1ec",
      "metadata": {
        "id": "9408c1ec"
      },
      "outputs": [],
      "source": [
        "# Write your code here"
      ]
    },
    {
      "cell_type": "markdown",
      "id": "0d216b96",
      "metadata": {
        "id": "0d216b96"
      },
      "source": [
        "👉 Hint: Use `if`, `elif`, and `else` to check ranges of grades."
      ]
    },
    {
      "cell_type": "markdown",
      "id": "165fd10a",
      "metadata": {
        "id": "165fd10a"
      },
      "source": [
        "## TASK 2: Constructing the Loop Function\n",
        "\n",
        "I need to classify the grades for a batch of 10,000 students given in a list → [75, 83, 55, 45,..........,45].\n",
        "\n",
        "- 50% or below is Fail\n",
        "- 50-64% is Pass\n",
        "- 65-74% is Credit\n",
        "- 75-85% is Distinction\n",
        "- 85-100% is High Distinction\n"
      ]
    },
    {
      "cell_type": "code",
      "execution_count": 2,
      "id": "4f4b9904",
      "metadata": {
        "id": "4f4b9904"
      },
      "outputs": [],
      "source": [
        "# Write your code here"
      ]
    },
    {
      "cell_type": "markdown",
      "id": "ec2d4dca",
      "metadata": {
        "id": "ec2d4dca"
      },
      "source": [
        "👉 Hint: Use a `for` loop to go through each grade in the list. Store results in a new list."
      ]
    },
    {
      "cell_type": "markdown",
      "id": "25dafa13",
      "metadata": {
        "id": "25dafa13"
      },
      "source": [
        "## TASK 3: Reading a text file online\n",
        "\n",
        "I need to classify the grades for a batch of 10 students given in txt file from a url: https://tinyurl.com/w5-dsp\n",
        "\n",
        "- 50% or below is Fail\n",
        "- 50-64% is Pass\n",
        "- 65-74% is Credit\n",
        "- 75-85% is Distinction\n",
        "- 85-100% is High Distinction\n"
      ]
    },
    {
      "cell_type": "code",
      "execution_count": 3,
      "id": "796bcb3f",
      "metadata": {
        "id": "796bcb3f"
      },
      "outputs": [],
      "source": [
        "# Write your code here\n"
      ]
    },
    {
      "cell_type": "code",
      "source": [],
      "metadata": {
        "id": "5z_VRyuKdLdA"
      },
      "id": "5z_VRyuKdLdA",
      "execution_count": 3,
      "outputs": []
    },
    {
      "cell_type": "markdown",
      "id": "23c6e0f6",
      "metadata": {
        "id": "23c6e0f6"
      },
      "source": [
        "👉 Hint: Use the `requests` library to fetch the file. Use `.split()` to turn text into numbers."
      ]
    }
  ],
  "metadata": {
    "colab": {
      "provenance": []
    },
    "language_info": {
      "name": "python"
    },
    "kernelspec": {
      "name": "python3",
      "display_name": "Python 3"
    }
  },
  "nbformat": 4,
  "nbformat_minor": 5
}